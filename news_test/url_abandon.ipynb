{
 "cells": [
  {
   "cell_type": "code",
   "execution_count": 12,
   "id": "06efe46d",
   "metadata": {},
   "outputs": [],
   "source": [
    "import Chrome\n",
    "from selenium.webdriver.common.by import  By\n",
    "from selenium.webdriver.support.wait import WebDriverWait\n",
    "from selenium.webdriver.support import expected_conditions as EC\n",
    "import asyncio\n",
    "import aiohttp\n",
    "import time\n",
    "import re\n",
    "import random\n",
    "from fake_useragent import UserAgent\n",
    "import nest_asyncio\n",
    "from datetime import datetime\n",
    "import pymysql\n",
    "import pandas as pd"
   ]
  },
  {
   "cell_type": "code",
   "execution_count": 5,
   "id": "c8201817",
   "metadata": {},
   "outputs": [],
   "source": [
    "ua =UserAgent()\n",
    "fake_useragent = ua.random\n",
    "headers = {\n",
    "    'User-Agent':fake_useragent\n",
    "}"
   ]
  },
  {
   "cell_type": "code",
   "execution_count": 9,
   "id": "38d3af6e",
   "metadata": {},
   "outputs": [],
   "source": [
    "db = pymysql.connect(host='database-1.c4ultj6iyykp.us-east-1.rds.amazonaws.com', user='admin', password='qweasdzxc123', port=3306, db='news')\n",
    "cursor = db.cursor()"
   ]
  },
  {
   "cell_type": "code",
   "execution_count": 10,
   "id": "c75b8dcb",
   "metadata": {},
   "outputs": [
    {
     "data": {
      "text/plain": [
       "290"
      ]
     },
     "execution_count": 10,
     "metadata": {},
     "output_type": "execute_result"
    }
   ],
   "source": [
    "cursor.execute('''select *\n",
    "            from news.companies''')"
   ]
  },
  {
   "cell_type": "code",
   "execution_count": 13,
   "id": "cd0cb8fe",
   "metadata": {},
   "outputs": [
    {
     "data": {
      "text/html": [
       "<div>\n",
       "<style scoped>\n",
       "    .dataframe tbody tr th:only-of-type {\n",
       "        vertical-align: middle;\n",
       "    }\n",
       "\n",
       "    .dataframe tbody tr th {\n",
       "        vertical-align: top;\n",
       "    }\n",
       "\n",
       "    .dataframe thead th {\n",
       "        text-align: right;\n",
       "    }\n",
       "</style>\n",
       "<table border=\"1\" class=\"dataframe\">\n",
       "  <thead>\n",
       "    <tr style=\"text-align: right;\">\n",
       "      <th></th>\n",
       "      <th>id</th>\n",
       "      <th>name</th>\n",
       "      <th>ticker</th>\n",
       "      <th>exchange</th>\n",
       "    </tr>\n",
       "  </thead>\n",
       "  <tbody>\n",
       "    <tr>\n",
       "      <th>0</th>\n",
       "      <td>1</td>\n",
       "      <td>蘑菇街</td>\n",
       "      <td>MOGU</td>\n",
       "      <td>NYSE</td>\n",
       "    </tr>\n",
       "    <tr>\n",
       "      <th>1</th>\n",
       "      <td>2</td>\n",
       "      <td>法拉第未来</td>\n",
       "      <td>FFIE</td>\n",
       "      <td>NasdaqGM</td>\n",
       "    </tr>\n",
       "    <tr>\n",
       "      <th>2</th>\n",
       "      <td>3</td>\n",
       "      <td>悦商集团</td>\n",
       "      <td>WETG</td>\n",
       "      <td>NasdaqGM</td>\n",
       "    </tr>\n",
       "    <tr>\n",
       "      <th>3</th>\n",
       "      <td>4</td>\n",
       "      <td>宜人贷</td>\n",
       "      <td>YRD</td>\n",
       "      <td>NYSE</td>\n",
       "    </tr>\n",
       "    <tr>\n",
       "      <th>4</th>\n",
       "      <td>5</td>\n",
       "      <td>天地荟</td>\n",
       "      <td>PETZ</td>\n",
       "      <td>NasdaqGM</td>\n",
       "    </tr>\n",
       "  </tbody>\n",
       "</table>\n",
       "</div>"
      ],
      "text/plain": [
       "   id   name ticker  exchange\n",
       "0   1    蘑菇街   MOGU      NYSE\n",
       "1   2  法拉第未来   FFIE  NasdaqGM\n",
       "2   3   悦商集团   WETG  NasdaqGM\n",
       "3   4    宜人贷    YRD      NYSE\n",
       "4   5    天地荟   PETZ  NasdaqGM"
      ]
     },
     "execution_count": 13,
     "metadata": {},
     "output_type": "execute_result"
    }
   ],
   "source": [
    "df = pd.DataFrame(cursor.fetchall(), columns=[i[0] for i in cursor.description])\n",
    "df.head()"
   ]
  },
  {
   "cell_type": "code",
   "execution_count": 14,
   "id": "9c34843a",
   "metadata": {},
   "outputs": [],
   "source": [
    "def get_urllist(ticker, cursor, db):\n",
    "    url_list = wait.until(EC.presence_of_all_elements_located((By.XPATH,'//*[@id=\"content_wrap\"]/div[2]/div/div[3]/div/ul/li/a')))\n",
    "    \n",
    "    urllist = []\n",
    "    for i in range(len(url_list)):\n",
    "        a_url = url_list[i].get_attribute('href')\n",
    "\n",
    "        urllist.append(a_url)\n",
    "\n",
    "        values = (ticker, a_url, 0, 'tencent_security')\n",
    "        sql = \"\"\"\n",
    "            INSERT INTO news.url\n",
    "            VALUES (%s, %s, %s, %s);\n",
    "        \"\"\"\n",
    "        print(values)\n",
    "        try:\n",
    "            cursor.execute(sql,values)\n",
    "            db.commit()\n",
    "        except: pass\n",
    "    return values"
   ]
  },
  {
   "cell_type": "code",
   "execution_count": 17,
   "id": "ee2dd28a",
   "metadata": {},
   "outputs": [
    {
     "name": "stdout",
     "output_type": "stream",
     "text": [
      "0 https://gu.qq.com/usMOGU/gg/news\n"
     ]
    },
    {
     "ename": "AttributeError",
     "evalue": "'WebDriver' object has no attribute 'find_element_by_xpath'",
     "output_type": "error",
     "traceback": [
      "\u001b[1;31m-----------------------------------------\u001b[0m",
      "\u001b[1;31mAttributeError\u001b[0mTraceback (most recent call last)",
      "\u001b[1;32m<ipython-input-17-ca8f95976ed0>\u001b[0m in \u001b[0;36m<module>\u001b[1;34m\u001b[0m\n\u001b[0;32m      4\u001b[0m     \u001b[0mdriver\u001b[0m\u001b[1;33m.\u001b[0m\u001b[0mget\u001b[0m\u001b[1;33m(\u001b[0m\u001b[0mqq_news_url\u001b[0m\u001b[1;33m)\u001b[0m\u001b[1;33m\u001b[0m\u001b[1;33m\u001b[0m\u001b[0m\n\u001b[0;32m      5\u001b[0m     \u001b[0mtime\u001b[0m\u001b[1;33m.\u001b[0m\u001b[0msleep\u001b[0m\u001b[1;33m(\u001b[0m\u001b[0mrandom\u001b[0m\u001b[1;33m.\u001b[0m\u001b[0muniform\u001b[0m\u001b[1;33m(\u001b[0m\u001b[1;36m0.5\u001b[0m\u001b[1;33m,\u001b[0m \u001b[1;36m1.0\u001b[0m\u001b[1;33m)\u001b[0m \u001b[1;33m)\u001b[0m\u001b[1;33m\u001b[0m\u001b[1;33m\u001b[0m\u001b[0m\n\u001b[1;32m----> 6\u001b[1;33m     \u001b[0mdriver\u001b[0m\u001b[1;33m.\u001b[0m\u001b[0mfind_element_by_xpath\u001b[0m\u001b[1;33m(\u001b[0m\u001b[1;33m)\u001b[0m\u001b[1;33m\u001b[0m\u001b[1;33m\u001b[0m\u001b[0m\n\u001b[0m\u001b[0;32m      7\u001b[0m     \u001b[0mall_url\u001b[0m \u001b[1;33m=\u001b[0m \u001b[1;33m[\u001b[0m\u001b[1;33m]\u001b[0m\u001b[1;33m\u001b[0m\u001b[1;33m\u001b[0m\u001b[0m\n\u001b[0;32m      8\u001b[0m     \u001b[1;32mwhile\u001b[0m \u001b[1;33m(\u001b[0m\u001b[0mclass_name\u001b[0m \u001b[1;33m!=\u001b[0m \u001b[1;34m'disabled'\u001b[0m\u001b[1;33m)\u001b[0m\u001b[1;33m:\u001b[0m\u001b[1;33m\u001b[0m\u001b[1;33m\u001b[0m\u001b[0m\n",
      "\u001b[1;31mAttributeError\u001b[0m: 'WebDriver' object has no attribute 'find_element_by_xpath'"
     ]
    }
   ],
   "source": [
    "for i in range(len(df[:100])):\n",
    "    qq_news_url = 'https://gu.qq.com/us'+ df.ticker[i]+'/gg/news'\n",
    "    print(i, qq_news_url)\n",
    "    driver.get(qq_news_url)\n",
    "    time.sleep(random.uniform(0.5, 1.0) )\n",
    "    driver.find_element_by_xpath()\n",
    "    all_url = []\n",
    "    while (class_name != 'disabled'):\n",
    "        time.sleep(random.uniform(0.5, 2.0) )\n",
    "        urllist=get_urllist(df.ticker[i], cursor, db)\n",
    "        all_url = all_url+urllist\n",
    "        xiayiye_button = wait.until(EC.presence_of_element_located((By.XPATH, '/html/body/div[1]/div/div/div[3]/div[2]/div/div[3]/div/div[2]/span[2]')))\n",
    "        class_name = xiayiye_button.get_attribute('class')\n",
    "        time.sleep(random.uniform(1.3, 3.0) )\n",
    "        xiayiye_button.click()"
   ]
  },
  {
   "cell_type": "code",
   "execution_count": 18,
   "id": "e1caaac9",
   "metadata": {},
   "outputs": [],
   "source": [
    "driver = Chrome.Antispider_Chrome(fake_useragent=True,headless=0)\n",
    "wait = WebDriverWait(driver, 60)\n",
    "index_url = 'https://gu.qq.com/usMOGU.N/gg/news'\n",
    "driver.get(index_url)"
   ]
  },
  {
   "cell_type": "code",
   "execution_count": null,
   "id": "020e59f5",
   "metadata": {},
   "outputs": [],
   "source": []
  }
 ],
 "metadata": {
  "kernelspec": {
   "display_name": "Python 3",
   "language": "python",
   "name": "python3"
  },
  "language_info": {
   "codemirror_mode": {
    "name": "ipython",
    "version": 3
   },
   "file_extension": ".py",
   "mimetype": "text/x-python",
   "name": "python",
   "nbconvert_exporter": "python",
   "pygments_lexer": "ipython3",
   "version": "3.8.8"
  }
 },
 "nbformat": 4,
 "nbformat_minor": 5
}
