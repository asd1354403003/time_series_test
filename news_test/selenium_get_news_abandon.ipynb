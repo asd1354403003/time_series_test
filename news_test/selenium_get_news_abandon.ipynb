{
 "cells": [
  {
   "cell_type": "code",
   "execution_count": 16,
   "id": "77362e6e",
   "metadata": {
    "pycharm": {
     "name": "#%%\n"
    }
   },
   "outputs": [],
   "source": [
    "import selenium\n",
    "from selenium import webdriver\n",
    "import pandas as pd\n",
    "import time\n",
    "from datetime import datetime"
   ]
  },
  {
   "cell_type": "code",
   "execution_count": 17,
   "id": "b67c39c9",
   "metadata": {
    "pycharm": {
     "name": "#%%\n"
    }
   },
   "outputs": [
    {
     "name": "stderr",
     "output_type": "stream",
     "text": [
      "C:\\Users\\13544\\AppData\\Local\\Temp/ipykernel_20084/300197458.py:1: DeprecationWarning: executable_path has been deprecated, please pass in a Service object\n",
      "  driver = webdriver.Chrome(executable_path='C:\\Program Files\\Google\\Chrome\\Application\\chromedriver.exe')\n"
     ]
    }
   ],
   "source": [
    "driver = webdriver.Chrome(executable_path='C:\\Program Files\\Google\\Chrome\\Application\\chromedriver.exe')"
   ]
  },
  {
   "cell_type": "code",
   "execution_count": 18,
   "id": "d9456e9c",
   "metadata": {
    "scrolled": true,
    "pycharm": {
     "name": "#%%\n"
    }
   },
   "outputs": [
    {
     "data": {
      "text/html": [
       "<div>\n",
       "<style scoped>\n",
       "    .dataframe tbody tr th:only-of-type {\n",
       "        vertical-align: middle;\n",
       "    }\n",
       "\n",
       "    .dataframe tbody tr th {\n",
       "        vertical-align: top;\n",
       "    }\n",
       "\n",
       "    .dataframe thead th {\n",
       "        text-align: right;\n",
       "    }\n",
       "</style>\n",
       "<table border=\"1\" class=\"dataframe\">\n",
       "  <thead>\n",
       "    <tr style=\"text-align: right;\">\n",
       "      <th></th>\n",
       "      <th>id</th>\n",
       "      <th>name</th>\n",
       "      <th>ticker</th>\n",
       "      <th>exchange</th>\n",
       "    </tr>\n",
       "  </thead>\n",
       "  <tbody>\n",
       "    <tr>\n",
       "      <th>0</th>\n",
       "      <td>1</td>\n",
       "      <td>蘑菇街</td>\n",
       "      <td>MOGU</td>\n",
       "      <td>NYSE</td>\n",
       "    </tr>\n",
       "    <tr>\n",
       "      <th>1</th>\n",
       "      <td>2</td>\n",
       "      <td>法拉第未来</td>\n",
       "      <td>FFIE</td>\n",
       "      <td>NasdaqGM</td>\n",
       "    </tr>\n",
       "    <tr>\n",
       "      <th>2</th>\n",
       "      <td>3</td>\n",
       "      <td>悦商集团</td>\n",
       "      <td>WETG</td>\n",
       "      <td>NasdaqGM</td>\n",
       "    </tr>\n",
       "    <tr>\n",
       "      <th>3</th>\n",
       "      <td>4</td>\n",
       "      <td>宜人贷</td>\n",
       "      <td>YRD</td>\n",
       "      <td>NYSE</td>\n",
       "    </tr>\n",
       "    <tr>\n",
       "      <th>4</th>\n",
       "      <td>5</td>\n",
       "      <td>天地荟</td>\n",
       "      <td>PETZ</td>\n",
       "      <td>NasdaqGM</td>\n",
       "    </tr>\n",
       "  </tbody>\n",
       "</table>\n",
       "</div>"
      ],
      "text/plain": [
       "   id   name ticker  exchange\n",
       "0   1    蘑菇街   MOGU      NYSE\n",
       "1   2  法拉第未来   FFIE  NasdaqGM\n",
       "2   3   悦商集团   WETG  NasdaqGM\n",
       "3   4    宜人贷    YRD      NYSE\n",
       "4   5    天地荟   PETZ  NasdaqGM"
      ]
     },
     "execution_count": 18,
     "metadata": {},
     "output_type": "execute_result"
    }
   ],
   "source": [
    "df = pd.read_csv('companies.csv')\n",
    "df.head()"
   ]
  },
  {
   "cell_type": "code",
   "execution_count": 20,
   "id": "39b527f9",
   "metadata": {
    "pycharm": {
     "name": "#%%\n"
    }
   },
   "outputs": [
    {
     "data": {
      "text/plain": [
       "'https://gu.qq.com/usMOGU/gg/news'"
      ]
     },
     "execution_count": 20,
     "metadata": {},
     "output_type": "execute_result"
    }
   ],
   "source": [
    "qq_news_url = 'https://gu.qq.com/us'+ df.ticker[0]+'/gg/news'\n",
    "qq_news_url"
   ]
  },
  {
   "cell_type": "code",
   "execution_count": 21,
   "id": "d5af5a12",
   "metadata": {
    "pycharm": {
     "name": "#%%\n"
    }
   },
   "outputs": [],
   "source": [
    "driver.get(qq_news_url)"
   ]
  },
  {
   "cell_type": "code",
   "execution_count": 8,
   "id": "257aa9a0",
   "metadata": {
    "pycharm": {
     "name": "#%%\n"
    }
   },
   "outputs": [
    {
     "name": "stderr",
     "output_type": "stream",
     "text": [
      "C:\\Users\\13544\\AppData\\Local\\Temp/ipykernel_20084/1815514696.py:1: DeprecationWarning: find_element_by_* commands are deprecated. Please use find_element() instead\n",
      "  driver.find_element_by_xpath('//*[@id=\"mod-sidenav\"]/div/dl[2]/dd').click()\n"
     ]
    }
   ],
   "source": [
    "driver.find_element_by_xpath('//*[@id=\"mod-sidenav\"]/div/dl[2]/dd').click()\n",
    "time.sleep(0.7)"
   ]
  },
  {
   "cell_type": "code",
   "execution_count": 9,
   "id": "c2cf5cb2",
   "metadata": {
    "pycharm": {
     "name": "#%%\n"
    }
   },
   "outputs": [
    {
     "name": "stderr",
     "output_type": "stream",
     "text": [
      "C:\\Users\\13544\\AppData\\Local\\Temp/ipykernel_20084/707765489.py:1: DeprecationWarning: find_element_by_* commands are deprecated. Please use find_element() instead\n",
      "  n = len(driver.find_element_by_xpath('//*[@id=\"content_wrap\"]/div[2]/div/div[3]/div/ul').text.split('\\n'))/2\n"
     ]
    }
   ],
   "source": [
    "n = len(driver.find_element_by_xpath('//*[@id=\"content_wrap\"]/div[2]/div/div[3]/div/ul').text.split('\\n'))/2"
   ]
  },
  {
   "cell_type": "code",
   "execution_count": 12,
   "id": "abc382f1",
   "metadata": {
    "pycharm": {
     "name": "#%%\n"
    }
   },
   "outputs": [
    {
     "name": "stderr",
     "output_type": "stream",
     "text": [
      "C:\\Users\\13544\\AppData\\Local\\Temp/ipykernel_20084/1715068165.py:2: DeprecationWarning: find_element_by_* commands are deprecated. Please use find_element() instead\n",
      "  check_year = driver.find_element_by_xpath('//*[@id=\"content_wrap\"]/div[2]/div/div[3]/div/ul/li[30]/span').text.split('-')[0]\n",
      "C:\\Users\\13544\\AppData\\Local\\Temp/ipykernel_20084/1715068165.py:3: DeprecationWarning: find_element_by_* commands are deprecated. Please use find_element() instead\n",
      "  driver.find_element_by_xpath('//*[@id=\"content_wrap\"]/div[2]/div/div[3]/div/ul/li[%d]/a'%(i+1)).click()\n",
      "C:\\Users\\13544\\AppData\\Local\\Temp/ipykernel_20084/1715068165.py:9: DeprecationWarning: find_element_by_* commands are deprecated. Please use find_element() instead\n",
      "  title = driver.find_element_by_xpath('//*[@id=\"news_title\"]').text\n",
      "C:\\Users\\13544\\AppData\\Local\\Temp/ipykernel_20084/1715068165.py:10: DeprecationWarning: find_element_by_* commands are deprecated. Please use find_element() instead\n",
      "  publish_time = driver.find_element_by_xpath('//*[@id=\"news_time\"]').text\n",
      "C:\\Users\\13544\\AppData\\Local\\Temp/ipykernel_20084/1715068165.py:17: DeprecationWarning: find_element_by_* commands are deprecated. Please use find_element() instead\n",
      "  text = driver.find_element_by_xpath('//*[@id=\"news-text\"]/div[1]').text\n"
     ]
    }
   ],
   "source": [
    "for i in range(int(n)):\n",
    "    time.sleep(1)\n",
    "    check_year = driver.find_element_by_xpath('//*[@id=\"content_wrap\"]/div[2]/div/div[3]/div/ul/li[30]/span').text.split('-')[0]\n",
    "    driver.find_element_by_xpath('//*[@id=\"content_wrap\"]/div[2]/div/div[3]/div/ul/li[%d]/a'%(i+1)).click()\n",
    "    \n",
    "    time.sleep(2)\n",
    "    \n",
    "    driver.switch_to.window(driver.window_handles[1])\n",
    "    time.sleep(1)\n",
    "    title = driver.find_element_by_xpath('//*[@id=\"news_title\"]').text\n",
    "    publish_time = driver.find_element_by_xpath('//*[@id=\"news_time\"]').text\n",
    "    if check_year.isdigit():\n",
    "        publish_time = '20'+check_year+'-'+ publish_time\n",
    "    else: \n",
    "        publish_time = '2022-'+ publish_time\n",
    "    iso_format = \"%Y-%m-%d %H:%M\"\n",
    "    publish_time = datetime.strptime(publish_time, iso_format)\n",
    "    text = driver.find_element_by_xpath('//*[@id=\"news-text\"]/div[1]').text\n",
    "    driver.close()\n",
    "    driver.switch_to.window(driver.window_handles[0])\n",
    "    \n",
    "    \n",
    "    break\n",
    "    print(a)\n",
    "    \n",
    "    next_page = driver.find_element_by_xpath('//*[@id=\"content_wrap\"]/div[2]/div/div[3]/div/div[2]/span[2]')\n",
    "    if next_page.get_attribute(\"class\") != 'disabled':\n",
    "        next_page.click()\n",
    "    else:\n",
    "        pass"
   ]
  },
  {
   "cell_type": "code",
   "execution_count": 14,
   "id": "f1becf1d",
   "metadata": {
    "pycharm": {
     "name": "#%%\n"
    }
   },
   "outputs": [],
   "source": [
    "source = 'tencent_security'"
   ]
  },
  {
   "cell_type": "code",
   "execution_count": 15,
   "id": "fdbb7039",
   "metadata": {
    "pycharm": {
     "name": "#%%\n"
    }
   },
   "outputs": [
    {
     "data": {
      "text/plain": [
       "('tencent_security',\n",
       " 'MOGU',\n",
       " '蘑菇街股价重挫14.89% 市值跌276.06万美元',\n",
       " datetime.datetime(2022, 9, 14, 9, 32),\n",
       " '北京时间2022年09月14日21时32分，蘑菇街（MOGU.us）股票出现异动，股价大幅跳水14.89%。截至发稿，该股报2.23美元/股，成交量1.358万股，换手率0.16%，振幅2.67%。\\n最近的财报数据显示，该股实现营业收入52.59百万美元，净利润-99.70百万美元，每股收益-142.43美元，毛利-23.42百万美元，市盈率-0.19倍。\\n机构评级方面，目前暂无机构对该股做出“买入、持有、卖出”建议。\\n蘑菇街股票所在的互联网零售行业中，整体涨幅为0.18%。其相关个股中，聚好商城、易恒健康、Kidpik Corp涨幅较大，易恒健康、Jeffs Brands Ltd、Blue Apron Holdings Inc较为活跃，换手率分别为1.47%、0.76%、0.44%，振幅较大的相关个股有易恒健康、A K A Brands Hldg Corp、Jeffs Brands Ltd，振幅分别为10.46%、5.10%、4.64%。\\n蘑菇街公司简介：蘑菇街公司是中国一家在线时尚生活网站。 公司在线平台包括蘑菇网、蘑菇街和美丽说。它的平台让人们在充分享受购物体验的同时发现和分享时尚潮流。 该公司在其平台上以各种多媒体形式提供与时尚和生活方式指南相关的内容，包括实时视频直播，短视频，摄影和在线评论社区。 该公司从中国境内获得收入。\\n消息层面，截至21时32分，蘑菇街股票正面舆情新闻比例50%。\\n（以上内容为自选股智能机器写手Money Call完成，仅作为用户看盘参考，不作为交易依据。）',\n",
       " 'https://gu.qq.com/usMOGU/gg/news')"
      ]
     },
     "execution_count": 15,
     "metadata": {},
     "output_type": "execute_result"
    }
   ],
   "source": [
    "source, df.ticker[0], title, publish_time, text, qq_news_url"
   ]
  },
  {
   "cell_type": "code",
   "execution_count": null,
   "id": "067f1664",
   "metadata": {
    "pycharm": {
     "name": "#%%\n"
    }
   },
   "outputs": [],
   "source": []
  }
 ],
 "metadata": {
  "kernelspec": {
   "display_name": "Python [conda env:All]",
   "language": "python",
   "name": "conda-env-All-py"
  },
  "language_info": {
   "codemirror_mode": {
    "name": "ipython",
    "version": 3
   },
   "file_extension": ".py",
   "mimetype": "text/x-python",
   "name": "python",
   "nbconvert_exporter": "python",
   "pygments_lexer": "ipython3",
   "version": "3.9.7"
  }
 },
 "nbformat": 4,
 "nbformat_minor": 5
}