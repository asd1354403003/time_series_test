{
 "cells": [
  {
   "cell_type": "code",
   "execution_count": 1,
   "id": "2edd24d6",
   "metadata": {
    "pycharm": {
     "name": "#%%\n"
    }
   },
   "outputs": [],
   "source": [
    "import yfinance as yf\n",
    "import datetime\n",
    "from pandas_datareader import data as pdr\n",
    "import sys\n",
    "from pandas_datareader._utils import RemoteDataError\n",
    "import pandas as pd\n",
    "import matplotlib.pyplot as plt\n",
    "import scipy.optimize as sco\n",
    "import numpy as np\n",
    "from statsmodels.graphics.tsaplots import plot_acf\n",
    "from matplotlib import pyplot\n",
    "from statsmodels.graphics.tsaplots import plot_pacf\n",
    "from statsmodels.tsa.ar_model import AutoReg, ar_select_order\n",
    "from statsmodels.tsa.arima.model import ARIMA\n",
    "from sklearn.metrics import mean_squared_error\n",
    "from math import sqrt\n",
    "import statsmodels.api as sm"
   ]
  },
  {
   "cell_type": "code",
   "execution_count": 2,
   "id": "e9eb716f",
   "metadata": {
    "pycharm": {
     "name": "#%%\n"
    }
   },
   "outputs": [],
   "source": [
    "yesterday = datetime.datetime.now() - datetime.timedelta(days=1)\n",
    "df = pdr.get_data_yahoo(\"MSFT\")\n",
    "df =df[750:]"
   ]
  },
  {
   "cell_type": "code",
   "execution_count": 3,
   "id": "ad189e5c",
   "metadata": {
    "pycharm": {
     "name": "#%%\n"
    }
   },
   "outputs": [
    {
     "data": {
      "text/html": [
       "<div>\n",
       "<style scoped>\n",
       "    .dataframe tbody tr th:only-of-type {\n",
       "        vertical-align: middle;\n",
       "    }\n",
       "\n",
       "    .dataframe tbody tr th {\n",
       "        vertical-align: top;\n",
       "    }\n",
       "\n",
       "    .dataframe thead th {\n",
       "        text-align: right;\n",
       "    }\n",
       "</style>\n",
       "<table border=\"1\" class=\"dataframe\">\n",
       "  <thead>\n",
       "    <tr style=\"text-align: right;\">\n",
       "      <th></th>\n",
       "      <th>High</th>\n",
       "      <th>Low</th>\n",
       "      <th>Open</th>\n",
       "      <th>Close</th>\n",
       "      <th>Volume</th>\n",
       "      <th>Adj Close</th>\n",
       "    </tr>\n",
       "    <tr>\n",
       "      <th>Date</th>\n",
       "      <th></th>\n",
       "      <th></th>\n",
       "      <th></th>\n",
       "      <th></th>\n",
       "      <th></th>\n",
       "      <th></th>\n",
       "    </tr>\n",
       "  </thead>\n",
       "  <tbody>\n",
       "    <tr>\n",
       "      <th>2020-09-15</th>\n",
       "      <td>209.779999</td>\n",
       "      <td>206.929993</td>\n",
       "      <td>208.419998</td>\n",
       "      <td>208.779999</td>\n",
       "      <td>21823900.0</td>\n",
       "      <td>205.163391</td>\n",
       "    </tr>\n",
       "    <tr>\n",
       "      <th>2020-09-16</th>\n",
       "      <td>210.649994</td>\n",
       "      <td>204.639999</td>\n",
       "      <td>210.619995</td>\n",
       "      <td>205.050003</td>\n",
       "      <td>26328100.0</td>\n",
       "      <td>201.498016</td>\n",
       "    </tr>\n",
       "    <tr>\n",
       "      <th>2020-09-17</th>\n",
       "      <td>204.330002</td>\n",
       "      <td>199.960007</td>\n",
       "      <td>200.050003</td>\n",
       "      <td>202.910004</td>\n",
       "      <td>34011300.0</td>\n",
       "      <td>199.395096</td>\n",
       "    </tr>\n",
       "    <tr>\n",
       "      <th>2020-09-18</th>\n",
       "      <td>203.649994</td>\n",
       "      <td>196.250000</td>\n",
       "      <td>202.800003</td>\n",
       "      <td>200.389999</td>\n",
       "      <td>55225300.0</td>\n",
       "      <td>196.918762</td>\n",
       "    </tr>\n",
       "    <tr>\n",
       "      <th>2020-09-21</th>\n",
       "      <td>202.710007</td>\n",
       "      <td>196.380005</td>\n",
       "      <td>197.190002</td>\n",
       "      <td>202.539993</td>\n",
       "      <td>39839700.0</td>\n",
       "      <td>199.031464</td>\n",
       "    </tr>\n",
       "    <tr>\n",
       "      <th>...</th>\n",
       "      <td>...</td>\n",
       "      <td>...</td>\n",
       "      <td>...</td>\n",
       "      <td>...</td>\n",
       "      <td>...</td>\n",
       "      <td>...</td>\n",
       "    </tr>\n",
       "    <tr>\n",
       "      <th>2022-09-13</th>\n",
       "      <td>260.399994</td>\n",
       "      <td>251.589996</td>\n",
       "      <td>258.839996</td>\n",
       "      <td>251.990005</td>\n",
       "      <td>33353300.0</td>\n",
       "      <td>251.990005</td>\n",
       "    </tr>\n",
       "    <tr>\n",
       "      <th>2022-09-14</th>\n",
       "      <td>254.229996</td>\n",
       "      <td>249.860001</td>\n",
       "      <td>253.529999</td>\n",
       "      <td>252.220001</td>\n",
       "      <td>23913000.0</td>\n",
       "      <td>252.220001</td>\n",
       "    </tr>\n",
       "    <tr>\n",
       "      <th>2022-09-15</th>\n",
       "      <td>251.399994</td>\n",
       "      <td>244.020004</td>\n",
       "      <td>249.770004</td>\n",
       "      <td>245.380005</td>\n",
       "      <td>31530900.0</td>\n",
       "      <td>245.380005</td>\n",
       "    </tr>\n",
       "    <tr>\n",
       "      <th>2022-09-16</th>\n",
       "      <td>245.300003</td>\n",
       "      <td>242.059998</td>\n",
       "      <td>244.259995</td>\n",
       "      <td>244.740005</td>\n",
       "      <td>39775100.0</td>\n",
       "      <td>244.740005</td>\n",
       "    </tr>\n",
       "    <tr>\n",
       "      <th>2022-09-19</th>\n",
       "      <td>245.139999</td>\n",
       "      <td>240.850006</td>\n",
       "      <td>242.470001</td>\n",
       "      <td>244.520004</td>\n",
       "      <td>26790800.0</td>\n",
       "      <td>244.520004</td>\n",
       "    </tr>\n",
       "  </tbody>\n",
       "</table>\n",
       "<p>507 rows × 6 columns</p>\n",
       "</div>"
      ],
      "text/plain": [
       "                  High         Low        Open       Close      Volume  \\\n",
       "Date                                                                     \n",
       "2020-09-15  209.779999  206.929993  208.419998  208.779999  21823900.0   \n",
       "2020-09-16  210.649994  204.639999  210.619995  205.050003  26328100.0   \n",
       "2020-09-17  204.330002  199.960007  200.050003  202.910004  34011300.0   \n",
       "2020-09-18  203.649994  196.250000  202.800003  200.389999  55225300.0   \n",
       "2020-09-21  202.710007  196.380005  197.190002  202.539993  39839700.0   \n",
       "...                ...         ...         ...         ...         ...   \n",
       "2022-09-13  260.399994  251.589996  258.839996  251.990005  33353300.0   \n",
       "2022-09-14  254.229996  249.860001  253.529999  252.220001  23913000.0   \n",
       "2022-09-15  251.399994  244.020004  249.770004  245.380005  31530900.0   \n",
       "2022-09-16  245.300003  242.059998  244.259995  244.740005  39775100.0   \n",
       "2022-09-19  245.139999  240.850006  242.470001  244.520004  26790800.0   \n",
       "\n",
       "             Adj Close  \n",
       "Date                    \n",
       "2020-09-15  205.163391  \n",
       "2020-09-16  201.498016  \n",
       "2020-09-17  199.395096  \n",
       "2020-09-18  196.918762  \n",
       "2020-09-21  199.031464  \n",
       "...                ...  \n",
       "2022-09-13  251.990005  \n",
       "2022-09-14  252.220001  \n",
       "2022-09-15  245.380005  \n",
       "2022-09-16  244.740005  \n",
       "2022-09-19  244.520004  \n",
       "\n",
       "[507 rows x 6 columns]"
      ]
     },
     "execution_count": 3,
     "metadata": {},
     "output_type": "execute_result"
    }
   ],
   "source": [
    "df"
   ]
  },
  {
   "cell_type": "code",
   "execution_count": 4,
   "id": "dc85750a",
   "metadata": {
    "pycharm": {
     "name": "#%%\n"
    }
   },
   "outputs": [
    {
     "data": {
      "text/plain": [
       "[<matplotlib.lines.Line2D at 0x18825ca7a60>]"
      ]
     },
     "execution_count": 4,
     "metadata": {},
     "output_type": "execute_result"
    },
    {
     "data": {
      "image/png": "[encoded data removed]",
      "text/plain": [
       "<Figure size 432x288 with 1 Axes>"
      ]
     },
     "metadata": {
      "needs_background": "light"
     },
     "output_type": "display_data"
    }
   ],
   "source": [
    "plt.plot(df.Close.index, df.Close)"
   ]
  },
  {
   "cell_type": "code",
   "execution_count": 5,
   "id": "817b0fa6",
   "metadata": {
    "pycharm": {
     "name": "#%%\n"
    }
   },
   "outputs": [
    {
     "name": "stdout",
     "output_type": "stream",
     "text": [
      "ADF Statistic: -1.791960\n",
      "p-value: 0.384461\n",
      "Critical Values:\n",
      "\t1%: -3.443\n",
      "\t5%: -2.867\n",
      "\t10%: -2.570\n"
     ]
    }
   ],
   "source": [
    "from statsmodels.tsa.stattools import adfuller\n",
    "result = adfuller(df.Close)\n",
    "print('ADF Statistic: %f' % result[0])\n",
    "print('p-value: %f' % result[1])\n",
    "print('Critical Values:')\n",
    "for key, value in result[4].items():\n",
    "    print('\\t%s: %.3f' % (key, value))"
   ]
  },
  {
   "cell_type": "code",
   "execution_count": 6,
   "id": "88674d18",
   "metadata": {
    "pycharm": {
     "name": "#%%\n"
    }
   },
   "outputs": [
    {
     "data": {
      "text/plain": [
       "[<matplotlib.lines.Line2D at 0x18827924f70>]"
      ]
     },
     "execution_count": 6,
     "metadata": {},
     "output_type": "execute_result"
    },
    {
     "data": {
      "image/png": "[encoded data removed]",
      "text/plain": [
       "<Figure size 432x288 with 1 Axes>"
      ]
     },
     "metadata": {
      "needs_background": "light"
     },
     "output_type": "display_data"
    }
   ],
   "source": [
    "series2 = df.Close.diff(periods=5).dropna()\n",
    "plt.plot(series2.index, series2)"
   ]
  },
  {
   "cell_type": "code",
   "execution_count": 7,
   "id": "2d3f17af",
   "metadata": {
    "pycharm": {
     "name": "#%%\n"
    }
   },
   "outputs": [
    {
     "name": "stdout",
     "output_type": "stream",
     "text": [
      "ADF Statistic: -4.719209\n",
      "p-value: 0.000077\n",
      "Critical Values:\n",
      "\t1%: -3.444\n",
      "\t5%: -2.868\n",
      "\t10%: -2.570\n"
     ]
    }
   ],
   "source": [
    "from statsmodels.tsa.stattools import adfuller\n",
    "result = adfuller(series2)\n",
    "print('ADF Statistic: %f' % result[0])\n",
    "print('p-value: %f' % result[1])\n",
    "print('Critical Values:')\n",
    "for key, value in result[4].items():\n",
    "    print('\\t%s: %.3f' % (key, value))"
   ]
  },
  {
   "cell_type": "code",
   "execution_count": 8,
   "id": "db5c98f9",
   "metadata": {
    "pycharm": {
     "name": "#%%\n"
    }
   },
   "outputs": [
    {
     "data": {
      "image/png": "[encoded data removed]",
      "text/plain": [
       "<Figure size 432x288 with 1 Axes>"
      ]
     },
     "metadata": {
      "needs_background": "light"
     },
     "output_type": "display_data"
    },
    {
     "name": "stderr",
     "output_type": "stream",
     "text": [
      "D:\\Anaconda\\envs\\All\\lib\\site-packages\\statsmodels\\graphics\\tsaplots.py:348: FutureWarning: The default method 'yw' can produce PACF values outside of the [-1,1] interval. After 0.13, the default will change tounadjusted Yule-Walker ('ywm'). You can use this method now by setting method='ywm'.\n",
      "  warnings.warn(\n"
     ]
    },
    {
     "data": {
      "image/png": "[encoded data removed]",
      "text/plain": [
       "<Figure size 432x288 with 1 Axes>"
      ]
     },
     "metadata": {
      "needs_background": "light"
     },
     "output_type": "display_data"
    }
   ],
   "source": [
    "plot_acf(series2)\n",
    "pyplot.show()\n",
    "\n",
    "plot_pacf(series2)\n",
    "pyplot.show()"
   ]
  },
  {
   "cell_type": "code",
   "execution_count": 75,
   "id": "a0589cab",
   "metadata": {
    "pycharm": {
     "name": "#%%\n"
    }
   },
   "outputs": [
    {
     "name": "stderr",
     "output_type": "stream",
     "text": [
      "D:\\Anaconda\\envs\\All\\lib\\site-packages\\statsmodels\\tsa\\statespace\\sarimax.py:966: UserWarning: Non-stationary starting autoregressive parameters found. Using zeros as starting parameters.\n",
      "  warn('Non-stationary starting autoregressive parameters'\n",
      "D:\\Anaconda\\envs\\All\\lib\\site-packages\\statsmodels\\tsa\\statespace\\sarimax.py:978: UserWarning: Non-invertible starting MA parameters found. Using zeros as starting parameters.\n",
      "  warn('Non-invertible starting MA parameters found.'\n",
      "D:\\Anaconda\\envs\\All\\lib\\site-packages\\statsmodels\\base\\model.py:604: ConvergenceWarning: Maximum Likelihood optimization failed to converge. Check mle_retvals\n",
      "  warnings.warn(\"Maximum Likelihood optimization failed to \"\n"
     ]
    },
    {
     "name": "stdout",
     "output_type": "stream",
     "text": [
      "predicted=2.610362, expected=9.000000\n"
     ]
    },
    {
     "name": "stderr",
     "output_type": "stream",
     "text": [
      "D:\\Anaconda\\envs\\All\\lib\\site-packages\\statsmodels\\base\\model.py:604: ConvergenceWarning: Maximum Likelihood optimization failed to converge. Check mle_retvals\n",
      "  warnings.warn(\"Maximum Likelihood optimization failed to \"\n"
     ]
    },
    {
     "name": "stdout",
     "output_type": "stream",
     "text": [
      "predicted=5.064427, expected=13.149994\n"
     ]
    },
    {
     "name": "stderr",
     "output_type": "stream",
     "text": [
      "D:\\Anaconda\\envs\\All\\lib\\site-packages\\statsmodels\\base\\model.py:604: ConvergenceWarning: Maximum Likelihood optimization failed to converge. Check mle_retvals\n",
      "  warnings.warn(\"Maximum Likelihood optimization failed to \"\n"
     ]
    },
    {
     "name": "stdout",
     "output_type": "stream",
     "text": [
      "predicted=7.943022, expected=10.410004\n"
     ]
    },
    {
     "name": "stderr",
     "output_type": "stream",
     "text": [
      "D:\\Anaconda\\envs\\All\\lib\\site-packages\\statsmodels\\base\\model.py:604: ConvergenceWarning: Maximum Likelihood optimization failed to converge. Check mle_retvals\n",
      "  warnings.warn(\"Maximum Likelihood optimization failed to \"\n"
     ]
    },
    {
     "name": "stdout",
     "output_type": "stream",
     "text": [
      "predicted=8.610704, expected=2.160004\n"
     ]
    },
    {
     "name": "stderr",
     "output_type": "stream",
     "text": [
      "D:\\Anaconda\\envs\\All\\lib\\site-packages\\statsmodels\\base\\model.py:604: ConvergenceWarning: Maximum Likelihood optimization failed to converge. Check mle_retvals\n",
      "  warnings.warn(\"Maximum Likelihood optimization failed to \"\n"
     ]
    },
    {
     "name": "stdout",
     "output_type": "stream",
     "text": [
      "predicted=5.757497, expected=3.150024\n"
     ]
    },
    {
     "name": "stderr",
     "output_type": "stream",
     "text": [
      "D:\\Anaconda\\envs\\All\\lib\\site-packages\\statsmodels\\base\\model.py:604: ConvergenceWarning: Maximum Likelihood optimization failed to converge. Check mle_retvals\n",
      "  warnings.warn(\"Maximum Likelihood optimization failed to \"\n"
     ]
    },
    {
     "name": "stdout",
     "output_type": "stream",
     "text": [
      "predicted=-0.202347, expected=-5.760010\n"
     ]
    },
    {
     "name": "stderr",
     "output_type": "stream",
     "text": [
      "D:\\Anaconda\\envs\\All\\lib\\site-packages\\statsmodels\\base\\model.py:604: ConvergenceWarning: Maximum Likelihood optimization failed to converge. Check mle_retvals\n",
      "  warnings.warn(\"Maximum Likelihood optimization failed to \"\n"
     ]
    },
    {
     "name": "stdout",
     "output_type": "stream",
     "text": [
      "predicted=-8.783680, expected=-15.720001\n"
     ]
    },
    {
     "name": "stderr",
     "output_type": "stream",
     "text": [
      "D:\\Anaconda\\envs\\All\\lib\\site-packages\\statsmodels\\base\\model.py:604: ConvergenceWarning: Maximum Likelihood optimization failed to converge. Check mle_retvals\n",
      "  warnings.warn(\"Maximum Likelihood optimization failed to \"\n"
     ]
    },
    {
     "name": "stdout",
     "output_type": "stream",
     "text": [
      "predicted=-13.229645, expected=-16.269989\n"
     ]
    },
    {
     "name": "stderr",
     "output_type": "stream",
     "text": [
      "D:\\Anaconda\\envs\\All\\lib\\site-packages\\statsmodels\\base\\model.py:604: ConvergenceWarning: Maximum Likelihood optimization failed to converge. Check mle_retvals\n",
      "  warnings.warn(\"Maximum Likelihood optimization failed to \"\n"
     ]
    },
    {
     "name": "stdout",
     "output_type": "stream",
     "text": [
      "predicted=-11.145536, expected=-15.529999\n"
     ]
    },
    {
     "name": "stderr",
     "output_type": "stream",
     "text": [
      "D:\\Anaconda\\envs\\All\\lib\\site-packages\\statsmodels\\base\\model.py:604: ConvergenceWarning: Maximum Likelihood optimization failed to converge. Check mle_retvals\n",
      "  warnings.warn(\"Maximum Likelihood optimization failed to \"\n"
     ]
    },
    {
     "name": "stdout",
     "output_type": "stream",
     "text": [
      "predicted=-12.864711, expected=-11.320007\n"
     ]
    },
    {
     "name": "stderr",
     "output_type": "stream",
     "text": [
      "D:\\Anaconda\\envs\\All\\lib\\site-packages\\statsmodels\\base\\model.py:604: ConvergenceWarning: Maximum Likelihood optimization failed to converge. Check mle_retvals\n",
      "  warnings.warn(\"Maximum Likelihood optimization failed to \"\n"
     ]
    },
    {
     "name": "stdout",
     "output_type": "stream",
     "text": [
      "predicted=-7.954335, expected=-18.059998\n"
     ]
    },
    {
     "name": "stderr",
     "output_type": "stream",
     "text": [
      "D:\\Anaconda\\envs\\All\\lib\\site-packages\\statsmodels\\base\\model.py:604: ConvergenceWarning: Maximum Likelihood optimization failed to converge. Check mle_retvals\n",
      "  warnings.warn(\"Maximum Likelihood optimization failed to \"\n"
     ]
    },
    {
     "name": "stdout",
     "output_type": "stream",
     "text": [
      "predicted=-9.254869, expected=-12.519989\n"
     ]
    },
    {
     "name": "stderr",
     "output_type": "stream",
     "text": [
      "D:\\Anaconda\\envs\\All\\lib\\site-packages\\statsmodels\\base\\model.py:604: ConvergenceWarning: Maximum Likelihood optimization failed to converge. Check mle_retvals\n",
      "  warnings.warn(\"Maximum Likelihood optimization failed to \"\n"
     ]
    },
    {
     "name": "stdout",
     "output_type": "stream",
     "text": [
      "predicted=-8.271043, expected=-13.470001\n"
     ]
    },
    {
     "name": "stderr",
     "output_type": "stream",
     "text": [
      "D:\\Anaconda\\envs\\All\\lib\\site-packages\\statsmodels\\base\\model.py:604: ConvergenceWarning: Maximum Likelihood optimization failed to converge. Check mle_retvals\n",
      "  warnings.warn(\"Maximum Likelihood optimization failed to \"\n"
     ]
    },
    {
     "name": "stdout",
     "output_type": "stream",
     "text": [
      "predicted=-8.924133, expected=-14.320007\n"
     ]
    },
    {
     "name": "stderr",
     "output_type": "stream",
     "text": [
      "D:\\Anaconda\\envs\\All\\lib\\site-packages\\statsmodels\\base\\model.py:604: ConvergenceWarning: Maximum Likelihood optimization failed to converge. Check mle_retvals\n",
      "  warnings.warn(\"Maximum Likelihood optimization failed to \"\n"
     ]
    },
    {
     "name": "stdout",
     "output_type": "stream",
     "text": [
      "predicted=-10.395318, expected=-18.450012\n"
     ]
    },
    {
     "name": "stderr",
     "output_type": "stream",
     "text": [
      "D:\\Anaconda\\envs\\All\\lib\\site-packages\\statsmodels\\base\\model.py:604: ConvergenceWarning: Maximum Likelihood optimization failed to converge. Check mle_retvals\n",
      "  warnings.warn(\"Maximum Likelihood optimization failed to \"\n"
     ]
    },
    {
     "name": "stdout",
     "output_type": "stream",
     "text": [
      "predicted=-11.509236, expected=-12.029999\n"
     ]
    },
    {
     "name": "stderr",
     "output_type": "stream",
     "text": [
      "D:\\Anaconda\\envs\\All\\lib\\site-packages\\statsmodels\\base\\model.py:604: ConvergenceWarning: Maximum Likelihood optimization failed to converge. Check mle_retvals\n",
      "  warnings.warn(\"Maximum Likelihood optimization failed to \"\n"
     ]
    },
    {
     "name": "stdout",
     "output_type": "stream",
     "text": [
      "predicted=-8.403324, expected=-11.980011\n"
     ]
    },
    {
     "name": "stderr",
     "output_type": "stream",
     "text": [
      "D:\\Anaconda\\envs\\All\\lib\\site-packages\\statsmodels\\base\\model.py:604: ConvergenceWarning: Maximum Likelihood optimization failed to converge. Check mle_retvals\n",
      "  warnings.warn(\"Maximum Likelihood optimization failed to \"\n"
     ]
    },
    {
     "name": "stdout",
     "output_type": "stream",
     "text": [
      "predicted=-9.051626, expected=-4.880005\n"
     ]
    },
    {
     "name": "stderr",
     "output_type": "stream",
     "text": [
      "D:\\Anaconda\\envs\\All\\lib\\site-packages\\statsmodels\\base\\model.py:604: ConvergenceWarning: Maximum Likelihood optimization failed to converge. Check mle_retvals\n",
      "  warnings.warn(\"Maximum Likelihood optimization failed to \"\n"
     ]
    },
    {
     "name": "stdout",
     "output_type": "stream",
     "text": [
      "predicted=-2.234191, expected=-2.950012\n"
     ]
    },
    {
     "name": "stderr",
     "output_type": "stream",
     "text": [
      "D:\\Anaconda\\envs\\All\\lib\\site-packages\\statsmodels\\base\\model.py:604: ConvergenceWarning: Maximum Likelihood optimization failed to converge. Check mle_retvals\n",
      "  warnings.warn(\"Maximum Likelihood optimization failed to \"\n"
     ]
    },
    {
     "name": "stdout",
     "output_type": "stream",
     "text": [
      "predicted=1.414422, expected=4.059998\n"
     ]
    },
    {
     "name": "stderr",
     "output_type": "stream",
     "text": [
      "D:\\Anaconda\\envs\\All\\lib\\site-packages\\statsmodels\\base\\model.py:604: ConvergenceWarning: Maximum Likelihood optimization failed to converge. Check mle_retvals\n",
      "  warnings.warn(\"Maximum Likelihood optimization failed to \"\n"
     ]
    },
    {
     "name": "stdout",
     "output_type": "stream",
     "text": [
      "predicted=2.917183, expected=10.589996\n"
     ]
    },
    {
     "name": "stderr",
     "output_type": "stream",
     "text": [
      "D:\\Anaconda\\envs\\All\\lib\\site-packages\\statsmodels\\base\\model.py:604: ConvergenceWarning: Maximum Likelihood optimization failed to converge. Check mle_retvals\n",
      "  warnings.warn(\"Maximum Likelihood optimization failed to \"\n"
     ]
    },
    {
     "name": "stdout",
     "output_type": "stream",
     "text": [
      "predicted=9.728637, expected=-1.259995\n"
     ]
    },
    {
     "name": "stderr",
     "output_type": "stream",
     "text": [
      "D:\\Anaconda\\envs\\All\\lib\\site-packages\\statsmodels\\base\\model.py:604: ConvergenceWarning: Maximum Likelihood optimization failed to converge. Check mle_retvals\n",
      "  warnings.warn(\"Maximum Likelihood optimization failed to \"\n"
     ]
    },
    {
     "name": "stdout",
     "output_type": "stream",
     "text": [
      "predicted=-0.406563, expected=-5.869995\n"
     ]
    },
    {
     "name": "stderr",
     "output_type": "stream",
     "text": [
      "D:\\Anaconda\\envs\\All\\lib\\site-packages\\statsmodels\\base\\model.py:604: ConvergenceWarning: Maximum Likelihood optimization failed to converge. Check mle_retvals\n",
      "  warnings.warn(\"Maximum Likelihood optimization failed to \"\n"
     ]
    },
    {
     "name": "stdout",
     "output_type": "stream",
     "text": [
      "predicted=-6.723385, expected=-13.139984\n"
     ]
    },
    {
     "name": "stderr",
     "output_type": "stream",
     "text": [
      "D:\\Anaconda\\envs\\All\\lib\\site-packages\\statsmodels\\base\\model.py:604: ConvergenceWarning: Maximum Likelihood optimization failed to converge. Check mle_retvals\n",
      "  warnings.warn(\"Maximum Likelihood optimization failed to \"\n"
     ]
    },
    {
     "name": "stdout",
     "output_type": "stream",
     "text": [
      "predicted=-12.728203, expected=-19.719986\n"
     ]
    },
    {
     "name": "stderr",
     "output_type": "stream",
     "text": [
      "D:\\Anaconda\\envs\\All\\lib\\site-packages\\statsmodels\\base\\model.py:604: ConvergenceWarning: Maximum Likelihood optimization failed to converge. Check mle_retvals\n",
      "  warnings.warn(\"Maximum Likelihood optimization failed to \"\n"
     ]
    },
    {
     "name": "stdout",
     "output_type": "stream",
     "text": [
      "predicted=-20.301854, expected=-22.129990\n",
      "Test RMSE: 5.702\n"
     ]
    },
    {
     "data": {
      "image/png": "[encoded data removed]",
      "text/plain": [
       "<Figure size 432x288 with 1 Axes>"
      ]
     },
     "metadata": {
      "needs_background": "light"
     },
     "output_type": "display_data"
    }
   ],
   "source": [
    "X = series2\n",
    "size = int(len(X) * 0.95)\n",
    "train, test = X[0:size], X[size:len(X)]\n",
    "history = [x for x in train]\n",
    "predictions = list()\n",
    "# walk-forward validation\n",
    "for t in range(len(test)):\n",
    "    model = ARIMA(history, order=(5, 1, 2), seasonal_order=(4,0,3,7))\n",
    "                                                            # 4 0 3 7\n",
    "    model_fit = model.fit()\n",
    "    output = model_fit.forecast()\n",
    "    yhat = output[0]\n",
    "    predictions.append(yhat)\n",
    "    obs = test[t]\n",
    "    history.append(obs)\n",
    "\n",
    "    print('predicted=%f, expected=%f' % (yhat, obs))\n",
    "    \n",
    "\n",
    "rmse = sqrt(mean_squared_error(test, predictions))\n",
    "print('Test RMSE: %.3f' % rmse)\n",
    "# plot forecasts against actual outcomes\n",
    "pyplot.plot(test.index, test)\n",
    "pyplot.plot(test.index, predictions, color='red')\n",
    "pyplot.show()\n",
    "\n"
   ]
  },
  {
   "cell_type": "code",
   "execution_count": 76,
   "id": "033bdae5",
   "metadata": {
    "scrolled": true,
    "pycharm": {
     "name": "#%%\n"
    }
   },
   "outputs": [
    {
     "data": {
      "image/png": "[encoded data removed]",
      "text/plain": [
       "<Figure size 432x288 with 2 Axes>"
      ]
     },
     "metadata": {
      "needs_background": "light"
     },
     "output_type": "display_data"
    }
   ],
   "source": [
    "residuals = pd.DataFrame(model_fit.resid)\n",
    "fig, ax = plt.subplots(1,2)\n",
    "residuals.plot(title=\"Residuals\", ax=ax[0])\n",
    "residuals.plot(kind='kde', title='Density', ax=ax[1])\n",
    "plt.show()"
   ]
  },
  {
   "cell_type": "code",
   "execution_count": 77,
   "id": "404e5ab0",
   "metadata": {
    "pycharm": {
     "name": "#%%\n"
    }
   },
   "outputs": [
    {
     "data": {
      "text/html": [
       "<div>\n",
       "<style scoped>\n",
       "    .dataframe tbody tr th:only-of-type {\n",
       "        vertical-align: middle;\n",
       "    }\n",
       "\n",
       "    .dataframe tbody tr th {\n",
       "        vertical-align: top;\n",
       "    }\n",
       "\n",
       "    .dataframe thead th {\n",
       "        text-align: right;\n",
       "    }\n",
       "</style>\n",
       "<table border=\"1\" class=\"dataframe\">\n",
       "  <thead>\n",
       "    <tr style=\"text-align: right;\">\n",
       "      <th></th>\n",
       "      <th>lb_stat</th>\n",
       "      <th>lb_pvalue</th>\n",
       "    </tr>\n",
       "  </thead>\n",
       "  <tbody>\n",
       "    <tr>\n",
       "      <th>1</th>\n",
       "      <td>0.998186</td>\n",
       "      <td>3.177498e-01</td>\n",
       "    </tr>\n",
       "    <tr>\n",
       "      <th>2</th>\n",
       "      <td>3.043297</td>\n",
       "      <td>2.183516e-01</td>\n",
       "    </tr>\n",
       "    <tr>\n",
       "      <th>3</th>\n",
       "      <td>4.266654</td>\n",
       "      <td>2.340727e-01</td>\n",
       "    </tr>\n",
       "    <tr>\n",
       "      <th>4</th>\n",
       "      <td>4.305368</td>\n",
       "      <td>3.662534e-01</td>\n",
       "    </tr>\n",
       "    <tr>\n",
       "      <th>5</th>\n",
       "      <td>16.980782</td>\n",
       "      <td>4.536390e-03</td>\n",
       "    </tr>\n",
       "    <tr>\n",
       "      <th>6</th>\n",
       "      <td>16.993563</td>\n",
       "      <td>9.306931e-03</td>\n",
       "    </tr>\n",
       "    <tr>\n",
       "      <th>7</th>\n",
       "      <td>16.997351</td>\n",
       "      <td>1.741327e-02</td>\n",
       "    </tr>\n",
       "    <tr>\n",
       "      <th>8</th>\n",
       "      <td>21.327280</td>\n",
       "      <td>6.327024e-03</td>\n",
       "    </tr>\n",
       "    <tr>\n",
       "      <th>9</th>\n",
       "      <td>33.676744</td>\n",
       "      <td>1.017554e-04</td>\n",
       "    </tr>\n",
       "    <tr>\n",
       "      <th>10</th>\n",
       "      <td>46.891301</td>\n",
       "      <td>9.882422e-07</td>\n",
       "    </tr>\n",
       "  </tbody>\n",
       "</table>\n",
       "</div>"
      ],
      "text/plain": [
       "      lb_stat     lb_pvalue\n",
       "1    0.998186  3.177498e-01\n",
       "2    3.043297  2.183516e-01\n",
       "3    4.266654  2.340727e-01\n",
       "4    4.305368  3.662534e-01\n",
       "5   16.980782  4.536390e-03\n",
       "6   16.993563  9.306931e-03\n",
       "7   16.997351  1.741327e-02\n",
       "8   21.327280  6.327024e-03\n",
       "9   33.676744  1.017554e-04\n",
       "10  46.891301  9.882422e-07"
      ]
     },
     "execution_count": 77,
     "metadata": {},
     "output_type": "execute_result"
    }
   ],
   "source": [
    "sm.stats.acorr_ljungbox(residuals, return_df=True)"
   ]
  },
  {
   "cell_type": "code",
   "execution_count": 79,
   "id": "d3dc34d6",
   "metadata": {
    "pycharm": {
     "name": "#%%\n"
    }
   },
   "outputs": [
    {
     "data": {
      "text/plain": [
       "[<matplotlib.lines.Line2D at 0x1882916e430>]"
      ]
     },
     "execution_count": 79,
     "metadata": {},
     "output_type": "execute_result"
    },
    {
     "data": {
      "image/png": "[encoded data removed]",
      "text/plain": [
       "<Figure size 432x288 with 1 Axes>"
      ]
     },
     "metadata": {
      "needs_background": "light"
     },
     "output_type": "display_data"
    }
   ],
   "source": [
    "start = len(train)\n",
    "end = len(train) + len(test) - 1\n",
    "\n",
    "# Predictions for one-year against the test set\n",
    "predictions = model_fit.predict(503, 593)\n",
    "plt.plot(predictions)\n"
   ]
  },
  {
   "cell_type": "code",
   "execution_count": 53,
   "id": "ffd65051",
   "metadata": {
    "pycharm": {
     "name": "#%%\n"
    }
   },
   "outputs": [
    {
     "data": {
      "image/png": "[encoded data removed]",
      "text/plain": [
       "<Figure size 432x288 with 4 Axes>"
      ]
     },
     "execution_count": 53,
     "metadata": {},
     "output_type": "execute_result"
    },
    {
     "data": {
      "image/png": "[encoded data removed]",
      "text/plain": [
       "<Figure size 432x288 with 4 Axes>"
      ]
     },
     "metadata": {
      "needs_background": "light"
     },
     "output_type": "display_data"
    }
   ],
   "source": [
    "a = series2.to_frame()\n",
    "np.random.seed(0)\n",
    "n = 502\n",
    "dates = np.array(str(a.Close.index[0])[:10], dtype=np.datetime64) + np.arange(n)\n",
    "data = a.Close.values\n",
    "dff = pd.DataFrame({'data': data}, index=dates)\n",
    "\n",
    "# Reproduce the example in OP\n",
    "decomposition = sm.tsa.seasonal_decompose(dff, model='additive', extrapolate_trend='freq')\n",
    "decomposition.plot()"
   ]
  },
  {
   "cell_type": "code",
   "execution_count": 54,
   "id": "6cac5ae0",
   "metadata": {
    "pycharm": {
     "name": "#%%\n"
    }
   },
   "outputs": [],
   "source": [
    "trend = decomposition.trend\n",
    "seasonal = decomposition.seasonal   "
   ]
  },
  {
   "cell_type": "code",
   "execution_count": 58,
   "id": "d86000af",
   "metadata": {
    "pycharm": {
     "name": "#%%\n"
    }
   },
   "outputs": [
    {
     "data": {
      "text/plain": [
       "3.172065784643304e-17"
      ]
     },
     "execution_count": 58,
     "metadata": {},
     "output_type": "execute_result"
    }
   ],
   "source": [
    "sum(decomposition.seasonal [:7])/7"
   ]
  },
  {
   "cell_type": "code",
   "execution_count": 27,
   "id": "28f1b997",
   "metadata": {
    "pycharm": {
     "name": "#%%\n"
    }
   },
   "outputs": [
    {
     "name": "stdout",
     "output_type": "stream",
     "text": [
      "-0.09083702530768162\n",
      "0.3241043753197486\n",
      "-0.9946287416173145\n",
      "-0.31419083941328085\n",
      "1.001415229178402\n",
      "0.777087134449757\n",
      "-0.7029501326096304\n",
      "-0.09083702530768162\n",
      "0.3241043753197486\n",
      "-0.9946287416173145\n",
      "-0.31419083941328085\n",
      "1.001415229178402\n",
      "0.777087134449757\n",
      "-0.7029501326096304\n",
      "-0.09083702530768162\n",
      "0.3241043753197486\n",
      "-0.9946287416173145\n",
      "-0.31419083941328085\n",
      "1.001415229178402\n",
      "0.777087134449757\n",
      "-0.7029501326096304\n",
      "-0.09083702530768162\n",
      "0.3241043753197486\n",
      "-0.9946287416173145\n",
      "-0.31419083941328085\n",
      "1.001415229178402\n",
      "0.777087134449757\n",
      "-0.7029501326096304\n",
      "-0.09083702530768162\n",
      "0.3241043753197486\n",
      "-0.9946287416173145\n",
      "-0.31419083941328085\n",
      "1.001415229178402\n",
      "0.777087134449757\n",
      "-0.7029501326096304\n",
      "-0.09083702530768162\n",
      "0.3241043753197486\n",
      "-0.9946287416173145\n",
      "-0.31419083941328085\n",
      "1.001415229178402\n",
      "0.777087134449757\n",
      "-0.7029501326096304\n",
      "-0.09083702530768162\n",
      "0.3241043753197486\n",
      "-0.9946287416173145\n",
      "-0.31419083941328085\n",
      "1.001415229178402\n",
      "0.777087134449757\n",
      "-0.7029501326096304\n",
      "-0.09083702530768162\n",
      "0.3241043753197486\n",
      "-0.9946287416173145\n",
      "-0.31419083941328085\n",
      "1.001415229178402\n",
      "0.777087134449757\n",
      "-0.7029501326096304\n",
      "-0.09083702530768162\n",
      "0.3241043753197486\n",
      "-0.9946287416173145\n",
      "-0.31419083941328085\n",
      "1.001415229178402\n",
      "0.777087134449757\n",
      "-0.7029501326096304\n",
      "-0.09083702530768162\n",
      "0.3241043753197486\n",
      "-0.9946287416173145\n",
      "-0.31419083941328085\n",
      "1.001415229178402\n",
      "0.777087134449757\n",
      "-0.7029501326096304\n",
      "-0.09083702530768162\n",
      "0.3241043753197486\n",
      "-0.9946287416173145\n",
      "-0.31419083941328085\n",
      "1.001415229178402\n",
      "0.777087134449757\n",
      "-0.7029501326096304\n",
      "-0.09083702530768162\n",
      "0.3241043753197486\n",
      "-0.9946287416173145\n",
      "-0.31419083941328085\n",
      "1.001415229178402\n",
      "0.777087134449757\n",
      "-0.7029501326096304\n",
      "-0.09083702530768162\n",
      "0.3241043753197486\n",
      "-0.9946287416173145\n",
      "-0.31419083941328085\n",
      "1.001415229178402\n",
      "0.777087134449757\n",
      "-0.7029501326096304\n",
      "-0.09083702530768162\n",
      "0.3241043753197486\n",
      "-0.9946287416173145\n",
      "-0.31419083941328085\n",
      "1.001415229178402\n",
      "0.777087134449757\n",
      "-0.7029501326096304\n",
      "-0.09083702530768162\n",
      "0.3241043753197486\n",
      "-0.9946287416173145\n",
      "-0.31419083941328085\n",
      "1.001415229178402\n",
      "0.777087134449757\n",
      "-0.7029501326096304\n",
      "-0.09083702530768162\n",
      "0.3241043753197486\n",
      "-0.9946287416173145\n",
      "-0.31419083941328085\n",
      "1.001415229178402\n",
      "0.777087134449757\n",
      "-0.7029501326096304\n",
      "-0.09083702530768162\n",
      "0.3241043753197486\n",
      "-0.9946287416173145\n",
      "-0.31419083941328085\n",
      "1.001415229178402\n",
      "0.777087134449757\n",
      "-0.7029501326096304\n",
      "-0.09083702530768162\n",
      "0.3241043753197486\n",
      "-0.9946287416173145\n",
      "-0.31419083941328085\n",
      "1.001415229178402\n",
      "0.777087134449757\n",
      "-0.7029501326096304\n",
      "-0.09083702530768162\n",
      "0.3241043753197486\n",
      "-0.9946287416173145\n",
      "-0.31419083941328085\n",
      "1.001415229178402\n",
      "0.777087134449757\n",
      "-0.7029501326096304\n",
      "-0.09083702530768162\n",
      "0.3241043753197486\n",
      "-0.9946287416173145\n",
      "-0.31419083941328085\n",
      "1.001415229178402\n",
      "0.777087134449757\n",
      "-0.7029501326096304\n",
      "-0.09083702530768162\n",
      "0.3241043753197486\n",
      "-0.9946287416173145\n",
      "-0.31419083941328085\n",
      "1.001415229178402\n",
      "0.777087134449757\n",
      "-0.7029501326096304\n",
      "-0.09083702530768162\n",
      "0.3241043753197486\n",
      "-0.9946287416173145\n",
      "-0.31419083941328085\n",
      "1.001415229178402\n",
      "0.777087134449757\n",
      "-0.7029501326096304\n",
      "-0.09083702530768162\n",
      "0.3241043753197486\n",
      "-0.9946287416173145\n",
      "-0.31419083941328085\n",
      "1.001415229178402\n",
      "0.777087134449757\n",
      "-0.7029501326096304\n",
      "-0.09083702530768162\n",
      "0.3241043753197486\n",
      "-0.9946287416173145\n",
      "-0.31419083941328085\n",
      "1.001415229178402\n",
      "0.777087134449757\n",
      "-0.7029501326096304\n",
      "-0.09083702530768162\n",
      "0.3241043753197486\n",
      "-0.9946287416173145\n",
      "-0.31419083941328085\n",
      "1.001415229178402\n",
      "0.777087134449757\n",
      "-0.7029501326096304\n",
      "-0.09083702530768162\n",
      "0.3241043753197486\n",
      "-0.9946287416173145\n",
      "-0.31419083941328085\n",
      "1.001415229178402\n",
      "0.777087134449757\n",
      "-0.7029501326096304\n",
      "-0.09083702530768162\n",
      "0.3241043753197486\n",
      "-0.9946287416173145\n",
      "-0.31419083941328085\n",
      "1.001415229178402\n",
      "0.777087134449757\n",
      "-0.7029501326096304\n",
      "-0.09083702530768162\n",
      "0.3241043753197486\n",
      "-0.9946287416173145\n",
      "-0.31419083941328085\n",
      "1.001415229178402\n",
      "0.777087134449757\n",
      "-0.7029501326096304\n",
      "-0.09083702530768162\n",
      "0.3241043753197486\n",
      "-0.9946287416173145\n",
      "-0.31419083941328085\n",
      "1.001415229178402\n",
      "0.777087134449757\n",
      "-0.7029501326096304\n",
      "-0.09083702530768162\n",
      "0.3241043753197486\n",
      "-0.9946287416173145\n",
      "-0.31419083941328085\n",
      "1.001415229178402\n",
      "0.777087134449757\n",
      "-0.7029501326096304\n",
      "-0.09083702530768162\n",
      "0.3241043753197486\n",
      "-0.9946287416173145\n",
      "-0.31419083941328085\n",
      "1.001415229178402\n",
      "0.777087134449757\n",
      "-0.7029501326096304\n",
      "-0.09083702530768162\n",
      "0.3241043753197486\n",
      "-0.9946287416173145\n",
      "-0.31419083941328085\n",
      "1.001415229178402\n",
      "0.777087134449757\n",
      "-0.7029501326096304\n",
      "-0.09083702530768162\n",
      "0.3241043753197486\n",
      "-0.9946287416173145\n",
      "-0.31419083941328085\n",
      "1.001415229178402\n",
      "0.777087134449757\n",
      "-0.7029501326096304\n",
      "-0.09083702530768162\n",
      "0.3241043753197486\n",
      "-0.9946287416173145\n",
      "-0.31419083941328085\n",
      "1.001415229178402\n",
      "0.777087134449757\n",
      "-0.7029501326096304\n",
      "-0.09083702530768162\n",
      "0.3241043753197486\n",
      "-0.9946287416173145\n",
      "-0.31419083941328085\n",
      "1.001415229178402\n",
      "0.777087134449757\n",
      "-0.7029501326096304\n",
      "-0.09083702530768162\n",
      "0.3241043753197486\n",
      "-0.9946287416173145\n",
      "-0.31419083941328085\n",
      "1.001415229178402\n",
      "0.777087134449757\n",
      "-0.7029501326096304\n",
      "-0.09083702530768162\n",
      "0.3241043753197486\n",
      "-0.9946287416173145\n",
      "-0.31419083941328085\n",
      "1.001415229178402\n",
      "0.777087134449757\n",
      "-0.7029501326096304\n",
      "-0.09083702530768162\n",
      "0.3241043753197486\n",
      "-0.9946287416173145\n",
      "-0.31419083941328085\n",
      "1.001415229178402\n",
      "0.777087134449757\n",
      "-0.7029501326096304\n",
      "-0.09083702530768162\n",
      "0.3241043753197486\n",
      "-0.9946287416173145\n",
      "-0.31419083941328085\n",
      "1.001415229178402\n",
      "0.777087134449757\n",
      "-0.7029501326096304\n",
      "-0.09083702530768162\n",
      "0.3241043753197486\n",
      "-0.9946287416173145\n",
      "-0.31419083941328085\n",
      "1.001415229178402\n",
      "0.777087134449757\n",
      "-0.7029501326096304\n",
      "-0.09083702530768162\n",
      "0.3241043753197486\n",
      "-0.9946287416173145\n",
      "-0.31419083941328085\n",
      "1.001415229178402\n",
      "0.777087134449757\n",
      "-0.7029501326096304\n",
      "-0.09083702530768162\n",
      "0.3241043753197486\n",
      "-0.9946287416173145\n",
      "-0.31419083941328085\n",
      "1.001415229178402\n",
      "0.777087134449757\n",
      "-0.7029501326096304\n",
      "-0.09083702530768162\n",
      "0.3241043753197486\n",
      "-0.9946287416173145\n",
      "-0.31419083941328085\n",
      "1.001415229178402\n",
      "0.777087134449757\n",
      "-0.7029501326096304\n",
      "-0.09083702530768162\n",
      "0.3241043753197486\n",
      "-0.9946287416173145\n",
      "-0.31419083941328085\n",
      "1.001415229178402\n",
      "0.777087134449757\n",
      "-0.7029501326096304\n",
      "-0.09083702530768162\n",
      "0.3241043753197486\n",
      "-0.9946287416173145\n",
      "-0.31419083941328085\n",
      "1.001415229178402\n",
      "0.777087134449757\n",
      "-0.7029501326096304\n",
      "-0.09083702530768162\n",
      "0.3241043753197486\n",
      "-0.9946287416173145\n",
      "-0.31419083941328085\n",
      "1.001415229178402\n",
      "0.777087134449757\n",
      "-0.7029501326096304\n",
      "-0.09083702530768162\n",
      "0.3241043753197486\n",
      "-0.9946287416173145\n",
      "-0.31419083941328085\n",
      "1.001415229178402\n",
      "0.777087134449757\n",
      "-0.7029501326096304\n",
      "-0.09083702530768162\n",
      "0.3241043753197486\n",
      "-0.9946287416173145\n",
      "-0.31419083941328085\n",
      "1.001415229178402\n",
      "0.777087134449757\n",
      "-0.7029501326096304\n",
      "-0.09083702530768162\n",
      "0.3241043753197486\n",
      "-0.9946287416173145\n",
      "-0.31419083941328085\n",
      "1.001415229178402\n",
      "0.777087134449757\n",
      "-0.7029501326096304\n",
      "-0.09083702530768162\n",
      "0.3241043753197486\n",
      "-0.9946287416173145\n",
      "-0.31419083941328085\n",
      "1.001415229178402\n",
      "0.777087134449757\n",
      "-0.7029501326096304\n",
      "-0.09083702530768162\n",
      "0.3241043753197486\n",
      "-0.9946287416173145\n",
      "-0.31419083941328085\n",
      "1.001415229178402\n",
      "0.777087134449757\n",
      "-0.7029501326096304\n",
      "-0.09083702530768162\n",
      "0.3241043753197486\n",
      "-0.9946287416173145\n",
      "-0.31419083941328085\n",
      "1.001415229178402\n",
      "0.777087134449757\n",
      "-0.7029501326096304\n",
      "-0.09083702530768162\n",
      "0.3241043753197486\n",
      "-0.9946287416173145\n",
      "-0.31419083941328085\n",
      "1.001415229178402\n",
      "0.777087134449757\n",
      "-0.7029501326096304\n",
      "-0.09083702530768162\n",
      "0.3241043753197486\n",
      "-0.9946287416173145\n",
      "-0.31419083941328085\n",
      "1.001415229178402\n",
      "0.777087134449757\n",
      "-0.7029501326096304\n",
      "-0.09083702530768162\n",
      "0.3241043753197486\n",
      "-0.9946287416173145\n",
      "-0.31419083941328085\n",
      "1.001415229178402\n",
      "0.777087134449757\n",
      "-0.7029501326096304\n",
      "-0.09083702530768162\n",
      "0.3241043753197486\n",
      "-0.9946287416173145\n",
      "-0.31419083941328085\n",
      "1.001415229178402\n",
      "0.777087134449757\n",
      "-0.7029501326096304\n",
      "-0.09083702530768162\n",
      "0.3241043753197486\n",
      "-0.9946287416173145\n",
      "-0.31419083941328085\n",
      "1.001415229178402\n",
      "0.777087134449757\n",
      "-0.7029501326096304\n",
      "-0.09083702530768162\n",
      "0.3241043753197486\n",
      "-0.9946287416173145\n",
      "-0.31419083941328085\n",
      "1.001415229178402\n",
      "0.777087134449757\n",
      "-0.7029501326096304\n",
      "-0.09083702530768162\n",
      "0.3241043753197486\n",
      "-0.9946287416173145\n",
      "-0.31419083941328085\n",
      "1.001415229178402\n",
      "0.777087134449757\n",
      "-0.7029501326096304\n",
      "-0.09083702530768162\n",
      "0.3241043753197486\n",
      "-0.9946287416173145\n",
      "-0.31419083941328085\n",
      "1.001415229178402\n",
      "0.777087134449757\n",
      "-0.7029501326096304\n",
      "-0.09083702530768162\n",
      "0.3241043753197486\n",
      "-0.9946287416173145\n",
      "-0.31419083941328085\n",
      "1.001415229178402\n",
      "0.777087134449757\n",
      "-0.7029501326096304\n",
      "-0.09083702530768162\n",
      "0.3241043753197486\n",
      "-0.9946287416173145\n",
      "-0.31419083941328085\n",
      "1.001415229178402\n",
      "0.777087134449757\n",
      "-0.7029501326096304\n",
      "-0.09083702530768162\n",
      "0.3241043753197486\n",
      "-0.9946287416173145\n",
      "-0.31419083941328085\n",
      "1.001415229178402\n",
      "0.777087134449757\n",
      "-0.7029501326096304\n",
      "-0.09083702530768162\n",
      "0.3241043753197486\n",
      "-0.9946287416173145\n",
      "-0.31419083941328085\n",
      "1.001415229178402\n",
      "0.777087134449757\n",
      "-0.7029501326096304\n",
      "-0.09083702530768162\n",
      "0.3241043753197486\n",
      "-0.9946287416173145\n",
      "-0.31419083941328085\n",
      "1.001415229178402\n",
      "0.777087134449757\n",
      "-0.7029501326096304\n",
      "-0.09083702530768162\n",
      "0.3241043753197486\n",
      "-0.9946287416173145\n",
      "-0.31419083941328085\n",
      "1.001415229178402\n",
      "0.777087134449757\n",
      "-0.7029501326096304\n",
      "-0.09083702530768162\n",
      "0.3241043753197486\n",
      "-0.9946287416173145\n",
      "-0.31419083941328085\n",
      "1.001415229178402\n",
      "0.777087134449757\n",
      "-0.7029501326096304\n",
      "-0.09083702530768162\n",
      "0.3241043753197486\n",
      "-0.9946287416173145\n",
      "-0.31419083941328085\n",
      "1.001415229178402\n",
      "0.777087134449757\n",
      "-0.7029501326096304\n",
      "-0.09083702530768162\n",
      "0.3241043753197486\n",
      "-0.9946287416173145\n",
      "-0.31419083941328085\n",
      "1.001415229178402\n",
      "0.777087134449757\n",
      "-0.7029501326096304\n",
      "-0.09083702530768162\n",
      "0.3241043753197486\n",
      "-0.9946287416173145\n",
      "-0.31419083941328085\n",
      "1.001415229178402\n",
      "0.777087134449757\n",
      "-0.7029501326096304\n",
      "-0.09083702530768162\n",
      "0.3241043753197486\n",
      "-0.9946287416173145\n",
      "-0.31419083941328085\n",
      "1.001415229178402\n",
      "0.777087134449757\n",
      "-0.7029501326096304\n",
      "-0.09083702530768162\n",
      "0.3241043753197486\n",
      "-0.9946287416173145\n",
      "-0.31419083941328085\n",
      "1.001415229178402\n"
     ]
    }
   ],
   "source": [
    "for i in decomposition.seasonal: print(i)"
   ]
  },
  {
   "cell_type": "code",
   "execution_count": 70,
   "id": "84f8128b",
   "metadata": {
    "pycharm": {
     "name": "#%%\n"
    }
   },
   "outputs": [
    {
     "data": {
      "text/plain": [
       "2020-09-22    4.766533\n",
       "2020-09-23    4.537757\n",
       "2020-09-24    4.308982\n",
       "2020-09-25    2.624287\n",
       "2020-09-26    4.142859\n",
       "                ...   \n",
       "2022-02-01   -4.041425\n",
       "2022-02-02   -6.781422\n",
       "2022-02-03    1.773474\n",
       "2022-02-04    3.135313\n",
       "2022-02-05    4.497151\n",
       "Name: trend, Length: 502, dtype: float64"
      ]
     },
     "execution_count": 70,
     "metadata": {},
     "output_type": "execute_result"
    }
   ],
   "source": [
    "decomposition.trend"
   ]
  },
  {
   "cell_type": "code",
   "execution_count": 65,
   "id": "b0c28cf9",
   "metadata": {
    "scrolled": true,
    "pycharm": {
     "name": "#%%\n"
    }
   },
   "outputs": [
    {
     "data": {
      "image/png": "[encoded data removed]",
      "text/plain": [
       "<Figure size 432x288 with 1 Axes>"
      ]
     },
     "metadata": {
      "needs_background": "light"
     },
     "output_type": "display_data"
    },
    {
     "name": "stderr",
     "output_type": "stream",
     "text": [
      "D:\\Anaconda\\envs\\All\\lib\\site-packages\\statsmodels\\graphics\\tsaplots.py:348: FutureWarning: The default method 'yw' can produce PACF values outside of the [-1,1] interval. After 0.13, the default will change tounadjusted Yule-Walker ('ywm'). You can use this method now by setting method='ywm'.\n",
      "  warnings.warn(\n"
     ]
    },
    {
     "data": {
      "image/png": "[encoded data removed]",
      "text/plain": [
       "<Figure size 432x288 with 1 Axes>"
      ]
     },
     "metadata": {
      "needs_background": "light"
     },
     "output_type": "display_data"
    }
   ],
   "source": [
    "plot_acf(decomposition.trend)\n",
    "pyplot.show()\n",
    "\n",
    "plot_pacf(decomposition.trend)\n",
    "pyplot.show()"
   ]
  },
  {
   "cell_type": "code",
   "execution_count": null,
   "id": "8a166235",
   "metadata": {
    "pycharm": {
     "name": "#%%\n"
    }
   },
   "outputs": [],
   "source": []
  },
  {
   "cell_type": "code",
   "execution_count": null,
   "id": "644bb615",
   "metadata": {
    "pycharm": {
     "name": "#%%\n"
    }
   },
   "outputs": [],
   "source": []
  },
  {
   "cell_type": "code",
   "execution_count": null,
   "id": "7ea28d0d",
   "metadata": {
    "pycharm": {
     "name": "#%%\n"
    }
   },
   "outputs": [],
   "source": []
  },
  {
   "cell_type": "code",
   "execution_count": 20,
   "id": "e2358ee6",
   "metadata": {
    "pycharm": {
     "name": "#%%\n"
    }
   },
   "outputs": [],
   "source": [
    "from pmdarima import auto_arima"
   ]
  },
  {
   "cell_type": "code",
   "execution_count": null,
   "id": "56688068",
   "metadata": {
    "pycharm": {
     "name": "#%%\n"
    }
   },
   "outputs": [
    {
     "name": "stdout",
     "output_type": "stream",
     "text": [
      "Performing stepwise search to minimize aic\n"
     ]
    }
   ],
   "source": [
    "stepwise_model = auto_arima(train, start_p=4, start_q=3,\n",
    "                           max_p=5, max_q=5, m=252,\n",
    "                           start_P=0, seasonal=True,\n",
    "                           d=1, D=1, trace=True,\n",
    "                           error_action='ignore',  \n",
    "                           suppress_warnings=True, \n",
    "                           stepwise=True)"
   ]
  },
  {
   "cell_type": "code",
   "execution_count": null,
   "id": "e51ef8e0",
   "metadata": {
    "pycharm": {
     "name": "#%%\n"
    }
   },
   "outputs": [],
   "source": [
    "model3 = auto_arima(train, start_p=1, start_q=1,\n",
    "                      test='adf',\n",
    "                      max_p=5, max_q=5,\n",
    "                      m=252,             \n",
    "                      d=1,          \n",
    "                      seasonal=True,   \n",
    "                      start_P=0,\n",
    "                   \n",
    "                    max_P=5,\n",
    "                    max_D=5,\n",
    "                      D=0, \n",
    "                      trace=True,\n",
    "                      error_action='ignore',  \n",
    "                      suppress_warnings=True, \n",
    "                      stepwise=True)"
   ]
  }
 ],
 "metadata": {
  "kernelspec": {
   "display_name": "Python [conda env:All]",
   "language": "python",
   "name": "conda-env-All-py"
  },
  "language_info": {
   "codemirror_mode": {
    "name": "ipython",
    "version": 3
   },
   "file_extension": ".py",
   "mimetype": "text/x-python",
   "name": "python",
   "nbconvert_exporter": "python",
   "pygments_lexer": "ipython3",
   "version": "3.9.7"
  }
 },
 "nbformat": 4,
 "nbformat_minor": 5
}